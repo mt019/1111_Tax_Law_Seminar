{
 "cells": [
  {
   "cell_type": "code",
   "execution_count": 1,
   "metadata": {},
   "outputs": [],
   "source": [
    "import urllib\n",
    "import urllib.request\n",
    "from bs4 import BeautifulSoup\n",
    "from selenium import webdriver"
   ]
  },
  {
   "cell_type": "code",
   "execution_count": 3,
   "metadata": {},
   "outputs": [],
   "source": [
    "dir_chromedriver = r'D:\\NTU\\_1111\\++++++++lawbank\\chromedriver.exe'"
   ]
  },
  {
   "cell_type": "code",
   "execution_count": 61,
   "metadata": {},
   "outputs": [],
   "source": [
    "# URL = 'http://ocw.aca.ntu.edu.tw/ntu-ocw/ocw/cou/110S102' #稅捐法導論\n",
    "URL = 'http://ocw.aca.ntu.edu.tw/ntu-ocw/ocw/cou/109S102' #刑法總則\n"
   ]
  },
  {
   "cell_type": "code",
   "execution_count": 62,
   "metadata": {},
   "outputs": [
    {
     "name": "stderr",
     "output_type": "stream",
     "text": [
      "C:\\Users\\User\\AppData\\Local\\Temp\\ipykernel_10296\\503591179.py:3: DeprecationWarning: executable_path has been deprecated, please pass in a Service object\n",
      "  driver = webdriver.Chrome(dir_chromedriver)\n"
     ]
    }
   ],
   "source": [
    "from selenium import webdriver\n",
    "\n",
    "driver = webdriver.Chrome(dir_chromedriver) \n",
    "driver.get(URL)\n",
    "pageSource = driver.page_source\n",
    "bsObj=BeautifulSoup(pageSource)\n",
    "articles=bsObj.findAll(\"div\",{\"class\":'AccordionPanelTab-text'})\n",
    "\n",
    "driver.quit()"
   ]
  },
  {
   "cell_type": "code",
   "execution_count": 63,
   "metadata": {},
   "outputs": [],
   "source": [
    "titles = [article.text for article in articles]"
   ]
  },
  {
   "cell_type": "code",
   "execution_count": 64,
   "metadata": {},
   "outputs": [
    {
     "data": {
      "text/plain": [
       "['單元 1．第一章 刑法簡介',\n",
       " '單元 2．第二章 刑法的任務',\n",
       " '單元 3．第三章 刑法的基本原則',\n",
       " '單元 4．第四章 現行刑法之效力',\n",
       " '單元 5．第五章 刑法的解釋',\n",
       " '單元 6．第六章 犯罪理論與行為理論',\n",
       " '單元 7．第七章 構成要件之理論與犯罪類型',\n",
       " '單元 8．第八章 因果關係與結果客觀歸責理論',\n",
       " '單元 9．第九章 主觀不法構成要件與構成要件錯誤',\n",
       " '單元 10．第十章 違法性之基本概念',\n",
       " '單元 11．第十一章 阻卻違法事由',\n",
       " '單元 12．第十二章 有責性 (罪責)',\n",
       " '單元 13．第十三章 行為階段與未遂犯']"
      ]
     },
     "execution_count": 64,
     "metadata": {},
     "output_type": "execute_result"
    }
   ],
   "source": [
    "titles = [article.get_text() for article in articles]\n",
    "titles = [title.strip() for title in titles]\n",
    "titles"
   ]
  },
  {
   "cell_type": "code",
   "execution_count": 58,
   "metadata": {},
   "outputs": [],
   "source": [
    "# title = re.sub('\\d+', str(2).zfill(2), titles[1])"
   ]
  },
  {
   "cell_type": "code",
   "execution_count": 66,
   "metadata": {},
   "outputs": [],
   "source": [
    "for index in range(13):\n",
    "    file_url = 'http://ocw.aca.ntu.edu.tw/ocw_files/109S102/109S102_CT'+str(index+1).zfill(2)+'L01.pdf'\n",
    "    response = urllib.request.urlopen(file_url)    \n",
    "    file = open(re.sub('\\d+', str(index+1).zfill(2), titles[index])+'.pdf', 'wb')# new name\n",
    "    file.write(response.read())\n",
    "    file.close()\n"
   ]
  }
 ],
 "metadata": {
  "kernelspec": {
   "display_name": "base",
   "language": "python",
   "name": "python3"
  },
  "language_info": {
   "codemirror_mode": {
    "name": "ipython",
    "version": 3
   },
   "file_extension": ".py",
   "mimetype": "text/x-python",
   "name": "python",
   "nbconvert_exporter": "python",
   "pygments_lexer": "ipython3",
   "version": "3.9.12"
  },
  "orig_nbformat": 4,
  "vscode": {
   "interpreter": {
    "hash": "bbe9695543ee169b996fbb6638a408925043ea1f243203b3eb134f5b162227d9"
   }
  }
 },
 "nbformat": 4,
 "nbformat_minor": 2
}
